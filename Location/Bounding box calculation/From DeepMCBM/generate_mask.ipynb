{
 "cells": [
  {
   "cell_type": "code",
   "execution_count": null,
   "metadata": {},
   "outputs": [],
   "source": [
    "#here we will load all the images from mdsn_no_p/input and show in order\n",
    "\n",
    "import os\n",
    "import cv2\n",
    "\n",
    "#load all the images from mds_no_p/input\n",
    "path = 'mdsn_no_p/input'\n",
    "images_mds = os.listdir(path)\n",
    "\n",
    "#print image names\n",
    "print(images_mds)"
   ]
  },
  {
   "cell_type": "code",
   "execution_count": null,
   "metadata": {},
   "outputs": [],
   "source": [
    "#here we will load all the images from backgrounds and show in order\n",
    "\n",
    "import os\n",
    "import cv2\n",
    "\n",
    "#load all the images from mds_no_p/input\n",
    "path = 'backgrounds'\n",
    "images_bk = os.listdir(path)\n",
    "\n",
    "#print image names\n",
    "print(images_bk)"
   ]
  },
  {
   "cell_type": "code",
   "execution_count": 14,
   "metadata": {},
   "outputs": [],
   "source": [
    "#now we will subtract the first background from the first image and show the binary mask\n",
    "#but we need an adaptive thresholding\n",
    "import cv2\n",
    "import numpy as np\n",
    "\n",
    "#load the images\n",
    "im1 = images_mds[0]\n",
    "im2 = images_bk[0]\n",
    "\n",
    "#read the images\n",
    "im1 = cv2.imread('mdsn_no_p/input/'+im1)\n",
    "im2 = cv2.imread('backgrounds/'+im2)\n",
    "\n",
    "#convert to grayscale\n",
    "im1 = cv2.cvtColor(im1, cv2.COLOR_BGR2GRAY)\n",
    "im2 = cv2.cvtColor(im2, cv2.COLOR_BGR2GRAY)\n",
    "\n",
    "#subtract the images\n",
    "im3 = cv2.subtract(im1, im2)\n",
    "\n",
    "#apply adaptive thresholding\n",
    "im3 = cv2.adaptiveThreshold(im3, 255, cv2.ADAPTIVE_THRESH_GAUSSIAN_C, cv2.THRESH_BINARY, 11, 2)\n",
    "\n",
    "#invert black and white\n",
    "im3 = cv2.bitwise_not(im3)\n",
    "\n",
    "#show the images\n",
    "cv2.imshow('image1', im1)\n",
    "cv2.imshow('image2', im2)\n",
    "cv2.imshow('image3', im3)\n",
    "cv2.waitKey(0)\n",
    "cv2.destroyAllWindows()"
   ]
  }
 ],
 "metadata": {
  "kernelspec": {
   "display_name": "ocv",
   "language": "python",
   "name": "python3"
  },
  "language_info": {
   "codemirror_mode": {
    "name": "ipython",
    "version": 3
   },
   "file_extension": ".py",
   "mimetype": "text/x-python",
   "name": "python",
   "nbconvert_exporter": "python",
   "pygments_lexer": "ipython3",
   "version": "3.8.13"
  },
  "orig_nbformat": 4,
  "vscode": {
   "interpreter": {
    "hash": "093d671d185b5b8188399b0cf2a364ac2377a7fe9f395558a0f25ac39c05c615"
   }
  }
 },
 "nbformat": 4,
 "nbformat_minor": 2
}
